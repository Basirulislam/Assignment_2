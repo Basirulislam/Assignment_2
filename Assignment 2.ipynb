{
 "cells": [
  {
   "cell_type": "markdown",
   "metadata": {
    "slideshow": {
     "slide_type": "slide"
    }
   },
   "source": [
    "# Assignment 2 - Unsupervised Learning \n",
    "`"
   ]
  },
  {
   "cell_type": "code",
   "execution_count": 17,
   "metadata": {},
   "outputs": [
    {
     "name": "stdout",
     "output_type": "stream",
     "text": [
      "[main fbb36af] task 2 and 3"
     ]
    },
    {
     "name": "stderr",
     "output_type": "stream",
     "text": [
      "warning: LF will be replaced by CRLF in Assignment 2.ipynb.\n",
      "The file will have its original line endings in your working directory\n"
     ]
    },
    {
     "name": "stdout",
     "output_type": "stream",
     "text": [
      "\n",
      " 1 file changed, 878 insertions(+), 557 deletions(-)\n",
      " rewrite Assignment 2.ipynb (84%)\n"
     ]
    },
    {
     "name": "stderr",
     "output_type": "stream",
     "text": [
      "To https://github.com/Basirulislam/Assignment_2.git\n",
      "   430deef..fbb36af  main -> main\n"
     ]
    }
   ],
   "source": [
    "! git commit -am \"task 2 and 3\" \n",
    "! git push"
   ]
  },
  {
   "cell_type": "markdown",
   "metadata": {
    "slideshow": {
     "slide_type": "slide"
    }
   },
   "source": [
    "#### Task 1 (3 points):\n",
    "\n",
    "1. Data normalization\n",
    "    - Look at features of Linnerud dataset, tell what is the problem with them\n",
    "          from sklearn.datasets import load_linnerud\n",
    "    - Normalize these features using a correct method. Plot original vs normalized probability density."
   ]
  },
  {
   "cell_type": "code",
   "execution_count": 1,
   "metadata": {
    "slideshow": {
     "slide_type": "slide"
    }
   },
   "outputs": [],
   "source": [
    "import pandas as pd\n",
    "\n",
    "import numpy as np\n",
    "import mglearn\n",
    "%matplotlib inline"
   ]
  },
  {
   "cell_type": "code",
   "execution_count": 2,
   "metadata": {
    "slideshow": {
     "slide_type": "slide"
    }
   },
   "outputs": [
    {
     "data": {
      "text/html": [
       "<div>\n",
       "<style scoped>\n",
       "    .dataframe tbody tr th:only-of-type {\n",
       "        vertical-align: middle;\n",
       "    }\n",
       "\n",
       "    .dataframe tbody tr th {\n",
       "        vertical-align: top;\n",
       "    }\n",
       "\n",
       "    .dataframe thead th {\n",
       "        text-align: right;\n",
       "    }\n",
       "</style>\n",
       "<table border=\"1\" class=\"dataframe\">\n",
       "  <thead>\n",
       "    <tr style=\"text-align: right;\">\n",
       "      <th></th>\n",
       "      <th>count</th>\n",
       "      <th>mean</th>\n",
       "      <th>std</th>\n",
       "      <th>min</th>\n",
       "      <th>25%</th>\n",
       "      <th>50%</th>\n",
       "      <th>75%</th>\n",
       "      <th>max</th>\n",
       "    </tr>\n",
       "  </thead>\n",
       "  <tbody>\n",
       "    <tr>\n",
       "      <th>Chins</th>\n",
       "      <td>20.0</td>\n",
       "      <td>9.45</td>\n",
       "      <td>5.286278</td>\n",
       "      <td>1.0</td>\n",
       "      <td>4.75</td>\n",
       "      <td>11.5</td>\n",
       "      <td>13.25</td>\n",
       "      <td>17.0</td>\n",
       "    </tr>\n",
       "    <tr>\n",
       "      <th>Situps</th>\n",
       "      <td>20.0</td>\n",
       "      <td>145.55</td>\n",
       "      <td>62.566575</td>\n",
       "      <td>50.0</td>\n",
       "      <td>101.00</td>\n",
       "      <td>122.5</td>\n",
       "      <td>210.00</td>\n",
       "      <td>251.0</td>\n",
       "    </tr>\n",
       "    <tr>\n",
       "      <th>Jumps</th>\n",
       "      <td>20.0</td>\n",
       "      <td>70.30</td>\n",
       "      <td>51.277470</td>\n",
       "      <td>25.0</td>\n",
       "      <td>39.50</td>\n",
       "      <td>54.0</td>\n",
       "      <td>85.25</td>\n",
       "      <td>250.0</td>\n",
       "    </tr>\n",
       "  </tbody>\n",
       "</table>\n",
       "</div>"
      ],
      "text/plain": [
       "        count    mean        std   min     25%    50%     75%    max\n",
       "Chins    20.0    9.45   5.286278   1.0    4.75   11.5   13.25   17.0\n",
       "Situps   20.0  145.55  62.566575  50.0  101.00  122.5  210.00  251.0\n",
       "Jumps    20.0   70.30  51.277470  25.0   39.50   54.0   85.25  250.0"
      ]
     },
     "execution_count": 2,
     "metadata": {},
     "output_type": "execute_result"
    }
   ],
   "source": [
    "from sklearn.datasets import load_linnerud\n",
    "\n",
    "data = load_linnerud()\n",
    "df_data = pd.DataFrame(data.data, columns=data.feature_names)\n",
    "\n",
    "\n",
    "# Descriptive statistics of the DataFrame\n",
    "\n",
    "df_data.describe().transpose()"
   ]
  },
  {
   "cell_type": "markdown",
   "metadata": {
    "slideshow": {
     "slide_type": "slide"
    }
   },
   "source": [
    "Some algorithms are very sensitive to the scaling of data such as SVM and NNs, because they aassume that all features are centered around zero and have variance in the same order. We can see that the features in our dataset have mean values that are positive. The std values vary between the features, so that can cause issues in a model as well. "
   ]
  },
  {
   "cell_type": "code",
   "execution_count": 3,
   "metadata": {
    "slideshow": {
     "slide_type": "slide"
    }
   },
   "outputs": [
    {
     "data": {
      "text/html": [
       "<div>\n",
       "<style scoped>\n",
       "    .dataframe tbody tr th:only-of-type {\n",
       "        vertical-align: middle;\n",
       "    }\n",
       "\n",
       "    .dataframe tbody tr th {\n",
       "        vertical-align: top;\n",
       "    }\n",
       "\n",
       "    .dataframe thead th {\n",
       "        text-align: right;\n",
       "    }\n",
       "</style>\n",
       "<table border=\"1\" class=\"dataframe\">\n",
       "  <thead>\n",
       "    <tr style=\"text-align: right;\">\n",
       "      <th></th>\n",
       "      <th>count</th>\n",
       "      <th>mean</th>\n",
       "      <th>std</th>\n",
       "      <th>min</th>\n",
       "      <th>25%</th>\n",
       "      <th>50%</th>\n",
       "      <th>75%</th>\n",
       "      <th>max</th>\n",
       "    </tr>\n",
       "  </thead>\n",
       "  <tbody>\n",
       "    <tr>\n",
       "      <th>0</th>\n",
       "      <td>20.0</td>\n",
       "      <td>1.776357e-16</td>\n",
       "      <td>1.025978</td>\n",
       "      <td>-1.640004</td>\n",
       "      <td>-0.912192</td>\n",
       "      <td>0.397871</td>\n",
       "      <td>0.737517</td>\n",
       "      <td>1.465329</td>\n",
       "    </tr>\n",
       "    <tr>\n",
       "      <th>1</th>\n",
       "      <td>20.0</td>\n",
       "      <td>-2.164935e-16</td>\n",
       "      <td>1.025978</td>\n",
       "      <td>-1.566847</td>\n",
       "      <td>-0.730539</td>\n",
       "      <td>-0.377978</td>\n",
       "      <td>1.056863</td>\n",
       "      <td>1.729189</td>\n",
       "    </tr>\n",
       "    <tr>\n",
       "      <th>2</th>\n",
       "      <td>20.0</td>\n",
       "      <td>3.330669e-17</td>\n",
       "      <td>1.025978</td>\n",
       "      <td>-0.906379</td>\n",
       "      <td>-0.616258</td>\n",
       "      <td>-0.326136</td>\n",
       "      <td>0.299125</td>\n",
       "      <td>3.595503</td>\n",
       "    </tr>\n",
       "  </tbody>\n",
       "</table>\n",
       "</div>"
      ],
      "text/plain": [
       "   count          mean       std       min       25%       50%       75%  \\\n",
       "0   20.0  1.776357e-16  1.025978 -1.640004 -0.912192  0.397871  0.737517   \n",
       "1   20.0 -2.164935e-16  1.025978 -1.566847 -0.730539 -0.377978  1.056863   \n",
       "2   20.0  3.330669e-17  1.025978 -0.906379 -0.616258 -0.326136  0.299125   \n",
       "\n",
       "        max  \n",
       "0  1.465329  \n",
       "1  1.729189  \n",
       "2  3.595503  "
      ]
     },
     "execution_count": 3,
     "metadata": {},
     "output_type": "execute_result"
    }
   ],
   "source": [
    "from sklearn.preprocessing import StandardScaler\n",
    "scaler = StandardScaler()\n",
    "scaler.fit(df_data)\n",
    "Dataset_scaled = scaler.transform(df_data)\n",
    "\n",
    "Dataset_scaled = pd.DataFrame(Dataset_scaled)\n",
    "Dataset_scaled.describe().transpose()"
   ]
  },
  {
   "cell_type": "code",
   "execution_count": 4,
   "metadata": {
    "slideshow": {
     "slide_type": "slide"
    }
   },
   "outputs": [
    {
     "data": {
      "image/png": "[encoded data removed]",
      "text/plain": [
       "<Figure size 432x288 with 4 Axes>"
      ]
     },
     "metadata": {
      "needs_background": "light"
     },
     "output_type": "display_data"
    }
   ],
   "source": [
    "hist_before = df_data.hist(bins=5)"
   ]
  },
  {
   "cell_type": "code",
   "execution_count": 5,
   "metadata": {
    "slideshow": {
     "slide_type": "slide"
    }
   },
   "outputs": [
    {
     "data": {
      "image/png": "[encoded data removed]",
      "text/plain": [
       "<Figure size 432x288 with 4 Axes>"
      ]
     },
     "metadata": {
      "needs_background": "light"
     },
     "output_type": "display_data"
    }
   ],
   "source": [
    "hist_scaled = Dataset_scaled.hist(bins=5)"
   ]
  },
  {
   "cell_type": "markdown",
   "metadata": {
    "slideshow": {
     "slide_type": "slide"
    }
   },
   "source": [
    "As we can see from the histograms above, we managed to scale the data (look at x-axis), without changing the distribution of the features. "
   ]
  },
  {
   "cell_type": "markdown",
   "metadata": {
    "slideshow": {
     "slide_type": "slide"
    }
   },
   "source": [
    "#### Task 2 (4 points):  \n",
    "2. Dimensionality reduction\n",
    "    - Load 20 News Dataset\n",
    "          from sklearn.datasets import fetch_20newsgroups_vectorized\n",
    "          data = fetch_20newsgroups_vectorized(subset='train')\n",
    "    - Use KernelPCA for dimensionality reduction. Train a classifier at different nr of dimensions, check how model score changes with dimensions\n",
    "          Remember that you can load training and testing subsets of data!"
   ]
  },
  {
   "cell_type": "code",
   "execution_count": 6,
   "metadata": {
    "slideshow": {
     "slide_type": "slide"
    }
   },
   "outputs": [],
   "source": [
    "from sklearn.datasets import fetch_20newsgroups_vectorized\n",
    "from sklearn import datasets\n",
    "from sklearn.utils import shuffle\n",
    "\n",
    "\n",
    "bunch_train = datasets.fetch_20newsgroups_vectorized(subset='train',as_frame = True)\n",
    "bunch_test = datasets.fetch_20newsgroups_vectorized(subset='test',as_frame = True)\n",
    "y_train = bunch_train.target\n",
    "y_test = bunch_test.target"
   ]
  },
  {
   "cell_type": "code",
   "execution_count": 7,
   "metadata": {
    "slideshow": {
     "slide_type": "slide"
    }
   },
   "outputs": [],
   "source": [
    "# we dont need to scale the data since it's already normalized\n",
    "X_train = bunch_train.data\n",
    "X_test = bunch_test.data"
   ]
  },
  {
   "cell_type": "code",
   "execution_count": 8,
   "metadata": {
    "slideshow": {
     "slide_type": "slide"
    }
   },
   "outputs": [
    {
     "name": "stdout",
     "output_type": "stream",
     "text": [
      "     train   test\n",
      "10    0.21   0.19\n",
      "100  0.607   0.51\n",
      "500  0.816  0.679\n"
     ]
    }
   ],
   "source": [
    "# We used 500 components as the last parameter value, which might be slow to run \n",
    "from sklearn.linear_model import LogisticRegression\n",
    "from sklearn.decomposition import KernelPCA\n",
    "\n",
    "n_components = [10,100,500]\n",
    "col = ['train', 'test', 'accuracy']\n",
    "score = pd.DataFrame(columns = col, index= n_components)\n",
    "\n",
    "\n",
    "# fit kPCA model to 20newsgroupsdata\n",
    "for number in range(0, len(n_components)):\n",
    "    # keep the first n principal components of the data\n",
    "    kpca = KernelPCA(n_components=n_components[number])\n",
    "\n",
    "    kpca.fit(X_train)\n",
    "    # transform data onto the first n principal components\n",
    "    X_train_kpca = kpca.transform(X_train)\n",
    "    X_test_kpca = kpca.transform(X_test)\n",
    "\n",
    "    logr_news = LogisticRegression(solver='sag').fit(X_train_kpca, y_train)\n",
    "    # Calculate scores for both test / train samples\n",
    "    score.at[n_components[number],'train'] = round(logr_news.score(X_train_kpca,y_train),3)\n",
    "    score.at[n_components[number],'test'] = round(logr_news.score(X_test_kpca,y_test),3)\n",
    "    score.at[n_components[number],'accuracy'] = round(accuracy_score(y_test, logr_news.predict(X_test_kpca)),3)\n",
    "print(score)"
   ]
  },
  {
   "cell_type": "markdown",
   "metadata": {
    "slideshow": {
     "slide_type": "slide"
    }
   },
   "source": [
    "We can see that with higher dimensionality the scores are also higher. There is a positive relationship between n_components and the scores of the classification model"
   ]
  },
  {
   "cell_type": "code",
   "execution_count": 9,
   "metadata": {
    "slideshow": {
     "slide_type": "slide"
    }
   },
   "outputs": [
    {
     "name": "stdout",
     "output_type": "stream",
     "text": [
      "     train   test accuracy\n",
      "10   0.085  0.069    0.069\n",
      "100  0.157  0.115    0.115\n",
      "500  0.381   0.33     0.33\n"
     ]
    }
   ],
   "source": [
    "# Implement LDA as comparison to kPCA which is suggested as a good model for topic extraction\n",
    "# https://scikit-learn.org/stable/auto_examples/applications/plot_topics_extraction_with_nmf_lda.html?fbclid=IwAR1aLSB9D7cp1vr82BIKor0_Okvmm4JrEprIKFNHHjm89EFdgrlW582KzCM#sphx-glr-auto-examples-applications-plot-topics-extraction-with-nmf-lda-py\n",
    "from sklearn.decomposition import LatentDirichletAllocation as LDA\n",
    "from sklearn.metrics import accuracy_score\n",
    "\n",
    "n_components = [10,100,500]\n",
    "col = ['train', 'test','accuracy']\n",
    "score = pd.DataFrame(columns = col, index= n_components)\n",
    "\n",
    "\n",
    "# fit LDA model to 20newsgroupsdata\n",
    "for number in range(0, len(n_components)):\n",
    "    # keep the first n principal components of the data\n",
    "    lda = LDA(n_components=n_components[number])\n",
    "\n",
    "    lda.fit(X_train)\n",
    "    # transform data onto the first n principal components\n",
    "    X_train_lda = lda.transform(X_train)\n",
    "    X_test_lda = lda.transform(X_test)\n",
    "\n",
    "    logr_news = LogisticRegression(solver='sag').fit(X_train_lda, y_train)\n",
    "    # Calculate scores for both test / train samples\n",
    "    score.at[n_components[number],'train'] = round(logr_news.score(X_train_lda, y_train),3)\n",
    "    score.at[n_components[number],'test'] = round(logr_news.score(X_test_lda, y_test),3)\n",
    "    score.at[n_components[number],'accuracy'] = round(accuracy_score(y_test, logr_news.predict(X_test_lda)),3)\n",
    "print(score)"
   ]
  },
  {
   "cell_type": "markdown",
   "metadata": {
    "slideshow": {
     "slide_type": "slide"
    }
   },
   "source": [
    "As we can see from the results, even though the LDA model is suggested to be a good model for topic extraction, after running a multiclass logistic regression the scores are worse compared to scores received from kPCA. \n"
   ]
  },
  {
   "cell_type": "markdown",
   "metadata": {
    "slideshow": {
     "slide_type": "slide"
    }
   },
   "source": [
    "#### Task 3 (8 points):\n",
    "\n",
    "3. Clustering\n",
    "    - Cluster 20 News Dataset into 20 clusters. Print true class vs cluster distribution. \n",
    "          Did you manage to recover the original clusters?  (give students an example plot)"
   ]
  },
  {
   "cell_type": "markdown",
   "metadata": {
    "slideshow": {
     "slide_type": "slide"
    }
   },
   "source": [
    "20 News Groups dataset"
   ]
  },
  {
   "cell_type": "code",
   "execution_count": 10,
   "metadata": {},
   "outputs": [],
   "source": [
    "from sklearn.datasets import fetch_20newsgroups_vectorized\n",
    "data = fetch_20newsgroups_vectorized(subset='train', remove=('headers','footers','quotes')) # remove some information that might not provide useful information\n",
    "X = data['data']\n",
    "Y = data['target']"
   ]
  },
  {
   "cell_type": "markdown",
   "metadata": {
    "slideshow": {
     "slide_type": "slide"
    }
   },
   "source": [
    "Printing classes and their predictions"
   ]
  },
  {
   "cell_type": "code",
   "execution_count": 11,
   "metadata": {},
   "outputs": [
    {
     "data": {
      "text/plain": [
       "[(0, 516),\n",
       " (1, 985),\n",
       " (2, 879),\n",
       " (3, 622),\n",
       " (4, 814),\n",
       " (5, 672),\n",
       " (6, 255),\n",
       " (7, 121),\n",
       " (8, 363),\n",
       " (9, 328),\n",
       " (10, 683),\n",
       " (11, 809),\n",
       " (12, 429),\n",
       " (13, 597),\n",
       " (14, 350),\n",
       " (15, 413),\n",
       " (16, 539),\n",
       " (17, 1155),\n",
       " (18, 269),\n",
       " (19, 515)]"
      ]
     },
     "execution_count": 11,
     "metadata": {},
     "output_type": "execute_result"
    }
   ],
   "source": [
    "from sklearn.cluster import KMeans, MiniBatchKMeans\n",
    "\n",
    "\n",
    "kmeans = KMeans(n_clusters=20)\n",
    "clusters = kmeans.fit_predict(X)\n",
    "\n",
    "res = list(zip(*np.unique(clusters, return_counts=True)))\n",
    "res"
   ]
  },
  {
   "cell_type": "code",
   "execution_count": 12,
   "metadata": {},
   "outputs": [
    {
     "data": {
      "text/plain": [
       "<AxesSubplot:>"
      ]
     },
     "execution_count": 12,
     "metadata": {},
     "output_type": "execute_result"
    },
    {
     "data": {
      "image/png": "[encoded data removed]",
      "text/plain": [
       "<Figure size 432x288 with 2 Axes>"
      ]
     },
     "metadata": {
      "needs_background": "light"
     },
     "output_type": "display_data"
    }
   ],
   "source": [
    "from sklearn.metrics import confusion_matrix\n",
    "import seaborn as sn\n",
    "cm = confusion_matrix(Y, clusters)\n",
    "sn.heatmap(cm, yticklabels=data['target_names'], \n",
    "           xticklabels=[\"cluster {}\".format(i) for i in range(20)])"
   ]
  },
  {
   "cell_type": "markdown",
   "metadata": {},
   "source": [
    "The KMeans with 20 clusters for the 20newsgroups dataset in the above run, managed to distinguish the forsale, religion.christian and politics.mideast groups. That being said, we can see that there is a lot of noise in the clusters (True Negatives). "
   ]
  },
  {
   "cell_type": "code",
   "execution_count": 13,
   "metadata": {},
   "outputs": [
    {
     "data": {
      "text/plain": [
       "[(0, 1),\n",
       " (1, 1705),\n",
       " (2, 2700),\n",
       " (3, 1),\n",
       " (4, 1),\n",
       " (5, 1),\n",
       " (6, 1),\n",
       " (7, 1),\n",
       " (8, 2378),\n",
       " (9, 1),\n",
       " (10, 1035),\n",
       " (11, 1126),\n",
       " (12, 1),\n",
       " (13, 1),\n",
       " (14, 2356),\n",
       " (15, 1),\n",
       " (16, 1),\n",
       " (17, 1),\n",
       " (18, 1),\n",
       " (19, 1)]"
      ]
     },
     "execution_count": 13,
     "metadata": {},
     "output_type": "execute_result"
    }
   ],
   "source": [
    "kmeans = MiniBatchKMeans(n_clusters=20, n_init=300)\n",
    "clusters = kmeans.fit_predict(X)\n",
    "\n",
    "res = list(zip(*np.unique(clusters, return_counts=True)))\n",
    "res"
   ]
  },
  {
   "cell_type": "code",
   "execution_count": 14,
   "metadata": {},
   "outputs": [
    {
     "data": {
      "text/plain": [
       "<AxesSubplot:>"
      ]
     },
     "execution_count": 14,
     "metadata": {},
     "output_type": "execute_result"
    },
    {
     "data": {
      "image/png": "[encoded data removed]",
      "text/plain": [
       "<Figure size 432x288 with 2 Axes>"
      ]
     },
     "metadata": {
      "needs_background": "light"
     },
     "output_type": "display_data"
    }
   ],
   "source": [
    "cm = confusion_matrix(Y, clusters)\n",
    "sn.heatmap(cm, yticklabels=data['target_names'], \n",
    "           xticklabels=[\"cluster {}\".format(i) for i in range(20)])"
   ]
  },
  {
   "cell_type": "markdown",
   "metadata": {},
   "source": [
    "When we run the same problem with MiniBatchKMeans and 300 initializations, we can see on the one hand that some of the clusters that are created only have one text file alocated to them, which means that they are not very useful. On the other hand there are 4-5 clusters created that have much more information about various topics. "
   ]
  },
  {
   "cell_type": "code",
   "execution_count": 15,
   "metadata": {},
   "outputs": [
    {
     "data": {
      "text/plain": [
       "[(0, 481),\n",
       " (1, 13),\n",
       " (2, 944),\n",
       " (3, 532),\n",
       " (4, 804),\n",
       " (5, 776),\n",
       " (6, 1110),\n",
       " (7, 281),\n",
       " (8, 961),\n",
       " (9, 169),\n",
       " (10, 586),\n",
       " (11, 513),\n",
       " (12, 994),\n",
       " (13, 568),\n",
       " (14, 207),\n",
       " (15, 450),\n",
       " (16, 49),\n",
       " (17, 783),\n",
       " (18, 199),\n",
       " (19, 894)]"
      ]
     },
     "execution_count": 15,
     "metadata": {},
     "output_type": "execute_result"
    }
   ],
   "source": [
    "kmeans = MiniBatchKMeans(n_clusters=20, n_init=200)\n",
    "clusters = kmeans.fit_predict(X_train_lda)\n",
    "\n",
    "res = list(zip(*np.unique(clusters, return_counts=True)))\n",
    "res"
   ]
  },
  {
   "cell_type": "code",
   "execution_count": 16,
   "metadata": {},
   "outputs": [
    {
     "data": {
      "text/plain": [
       "<AxesSubplot:>"
      ]
     },
     "execution_count": 16,
     "metadata": {},
     "output_type": "execute_result"
    },
    {
     "data": {
      "image/png": "[encoded data removed]",
      "text/plain": [
       "<Figure size 432x288 with 2 Axes>"
      ]
     },
     "metadata": {
      "needs_background": "light"
     },
     "output_type": "display_data"
    }
   ],
   "source": [
    "cm = confusion_matrix(Y, clusters)\n",
    "sn.heatmap(cm, yticklabels=data['target_names'], \n",
    "           xticklabels=[\"cluster {}\".format(i) for i in range(20)])"
   ]
  },
  {
   "cell_type": "markdown",
   "metadata": {},
   "source": [
    "Lastly, we run MinBatchKmeans with 200 initializations with the data that was first transformed with the LDA model. Even though we saw that it was not a great dimensionality reduction tool compared to PCA, we have some intreresting results when the transformed variables are passed through the MinBatchKmeans model. In conclusion, we did not manage to receive the original clusters of our dataset. Perhaps KMeans is not the right clustering model for this problem.   "
   ]
  }
 ],
 "metadata": {
  "celltoolbar": "Slideshow",
  "hide_input": false,
  "kernelspec": {
   "display_name": "Python 3 (ipykernel)",
   "language": "python",
   "name": "python3"
  },
  "language_info": {
   "codemirror_mode": {
    "name": "ipython",
    "version": 3
   },
   "file_extension": ".py",
   "mimetype": "text/x-python",
   "name": "python",
   "nbconvert_exporter": "python",
   "pygments_lexer": "ipython3",
   "version": "3.9.6"
  }
 },
 "nbformat": 4,
 "nbformat_minor": 2
}
