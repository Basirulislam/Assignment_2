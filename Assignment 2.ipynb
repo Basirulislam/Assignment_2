{
 "cells": [
  {
   "cell_type": "markdown",
   "metadata": {
    "slideshow": {
     "slide_type": "slide"
    }
   },
   "source": [
    "# Assignment 2 - Unsupervised Learning \n",
    "`"
   ]
  },
  {
   "cell_type": "code",
   "execution_count": null,
   "metadata": {},
   "outputs": [],
   "source": [
    "! git clone https://github.com/Basirulislam/Assignment_2.git\n"
   ]
  },
  {
   "cell_type": "code",
   "execution_count": null,
   "metadata": {},
   "outputs": [],
   "source": [
    "! git add -A \n"
   ]
  },
  {
   "cell_type": "code",
   "execution_count": null,
   "metadata": {},
   "outputs": [],
   "source": [
    "! git commit -am \"Moving the Jupyter notebook\" \n"
   ]
  },
  {
   "cell_type": "code",
   "execution_count": null,
   "metadata": {},
   "outputs": [],
   "source": [
    "! git config --global user.email \"you@example.com\"\n",
    "  git config --global user.name \"Your Name\""
   ]
  },
  {
   "cell_type": "markdown",
   "metadata": {
    "slideshow": {
     "slide_type": "slide"
    }
   },
   "source": [
    "#### Task 1 (3 points):\n",
    "\n",
    "1. Data normalization\n",
    "    - Look at features of Linnerud dataset, tell what is the problem with them\n",
    "          from sklearn.datasets import load_linnerud\n",
    "    - Normalize these features using a correct method. Plot original vs normalized probability density."
   ]
  },
  {
   "cell_type": "code",
   "execution_count": 1,
   "metadata": {
    "slideshow": {
     "slide_type": "slide"
    }
   },
   "outputs": [],
   "source": [
    "import pandas as pd\n",
    "\n",
    "import numpy as np\n",
    "import mglearn\n",
    "%matplotlib inline"
   ]
  },
  {
   "cell_type": "code",
   "execution_count": null,
   "metadata": {
    "slideshow": {
     "slide_type": "slide"
    }
   },
   "outputs": [],
   "source": [
    "from sklearn.datasets import load_linnerud\n",
    "\n",
    "data = load_linnerud()\n",
    "df_data = pd.DataFrame(data.data, columns=data.feature_names)\n",
    "\n",
    "\n",
    "# Descriptive statistics of the DataFrame\n",
    "\n",
    "df_data.describe().transpose()"
   ]
  },
  {
   "cell_type": "markdown",
   "metadata": {
    "slideshow": {
     "slide_type": "slide"
    }
   },
   "source": [
    "Some algorithms are very sensitive to the scaling of data such as SVM and NNs, because they aassume that all features are centered around zero and have variance in the same order. We can see that the features in our dataset have mean values that are positive. The std values vary between the features, so that can cause issues in a model as well. "
   ]
  },
  {
   "cell_type": "code",
   "execution_count": null,
   "metadata": {
    "slideshow": {
     "slide_type": "slide"
    }
   },
   "outputs": [],
   "source": [
    "from sklearn.preprocessing import StandardScaler\n",
    "scaler = StandardScaler()\n",
    "scaler.fit(df_data)\n",
    "Dataset_scaled = scaler.transform(df_data)\n",
    "\n",
    "Dataset_scaled = pd.DataFrame(Dataset_scaled)\n",
    "Dataset_scaled.describe().transpose()"
   ]
  },
  {
   "cell_type": "code",
   "execution_count": null,
   "metadata": {
    "slideshow": {
     "slide_type": "slide"
    }
   },
   "outputs": [],
   "source": [
    "hist_before = df_data.hist(bins=5)"
   ]
  },
  {
   "cell_type": "code",
   "execution_count": null,
   "metadata": {
    "slideshow": {
     "slide_type": "slide"
    }
   },
   "outputs": [],
   "source": [
    "hist_scaled = Dataset_scaled.hist(bins=5)"
   ]
  },
  {
   "cell_type": "markdown",
   "metadata": {
    "slideshow": {
     "slide_type": "slide"
    }
   },
   "source": [
    "#### Task 2 (4 points):  \n",
    "2. Dimensionality reduction\n",
    "    - Load 20 News Dataset\n",
    "          from sklearn.datasets import fetch_20newsgroups_vectorized\n",
    "          data = fetch_20newsgroups_vectorized(subset='train')\n",
    "    - Use KernelPCA for dimensionality reduction. Train a classifier at different nr of dimensions, check how model score changes with dimensions\n",
    "          Remember that you can load training and testing subsets of data!"
   ]
  },
  {
   "cell_type": "code",
   "execution_count": 2,
   "metadata": {
    "slideshow": {
     "slide_type": "slide"
    }
   },
   "outputs": [],
   "source": [
    "from sklearn.datasets import fetch_20newsgroups_vectorized\n",
    "from sklearn import datasets\n",
    "from sklearn.utils import shuffle\n",
    "\n",
    "\n",
    "bunch_train = datasets.fetch_20newsgroups_vectorized(subset='train',as_frame = True)\n",
    "bunch_test = datasets.fetch_20newsgroups_vectorized(subset='test',as_frame = True)\n",
    "y_train = bunch_train.target\n",
    "y_test = bunch_test.target"
   ]
  },
  {
   "cell_type": "code",
   "execution_count": 3,
   "metadata": {
    "slideshow": {
     "slide_type": "slide"
    }
   },
   "outputs": [],
   "source": [
    "# we scale our data using MaxAbsScaler\n",
    "from sklearn.preprocessing import MaxAbsScaler\n",
    "scaler = MaxAbsScaler()\n",
    "scaler.fit(bunch_train.data)\n",
    "X_train_scaled = scaler.transform(bunch_train.data)\n",
    "X_test_scaled = scaler.transform(bunch_test.data)"
   ]
  },
  {
   "cell_type": "code",
   "execution_count": 27,
   "metadata": {
    "slideshow": {
     "slide_type": "slide"
    }
   },
   "outputs": [
    {
     "name": "stderr",
     "output_type": "stream",
     "text": [
      "C:\\Users\\alext\\AppData\\Local\\Programs\\Python\\Python39\\lib\\site-packages\\sklearn\\linear_model\\_sag.py:352: ConvergenceWarning: The max_iter was reached which means the coef_ did not converge\n",
      "  warnings.warn(\n",
      "C:\\Users\\alext\\AppData\\Local\\Programs\\Python\\Python39\\lib\\site-packages\\sklearn\\linear_model\\_sag.py:352: ConvergenceWarning: The max_iter was reached which means the coef_ did not converge\n",
      "  warnings.warn(\n",
      "C:\\Users\\alext\\AppData\\Local\\Programs\\Python\\Python39\\lib\\site-packages\\sklearn\\linear_model\\_sag.py:352: ConvergenceWarning: The max_iter was reached which means the coef_ did not converge\n",
      "  warnings.warn(\n"
     ]
    },
    {
     "data": {
      "text/html": [
       "<div>\n",
       "<style scoped>\n",
       "    .dataframe tbody tr th:only-of-type {\n",
       "        vertical-align: middle;\n",
       "    }\n",
       "\n",
       "    .dataframe tbody tr th {\n",
       "        vertical-align: top;\n",
       "    }\n",
       "\n",
       "    .dataframe thead th {\n",
       "        text-align: right;\n",
       "    }\n",
       "</style>\n",
       "<table border=\"1\" class=\"dataframe\">\n",
       "  <thead>\n",
       "    <tr style=\"text-align: right;\">\n",
       "      <th></th>\n",
       "      <th>train</th>\n",
       "      <th>test</th>\n",
       "    </tr>\n",
       "  </thead>\n",
       "  <tbody>\n",
       "    <tr>\n",
       "      <th>10</th>\n",
       "      <td>0.102</td>\n",
       "      <td>0.1</td>\n",
       "    </tr>\n",
       "    <tr>\n",
       "      <th>100</th>\n",
       "      <td>0.6</td>\n",
       "      <td>0.528</td>\n",
       "    </tr>\n",
       "    <tr>\n",
       "      <th>500</th>\n",
       "      <td>0.855</td>\n",
       "      <td>0.742</td>\n",
       "    </tr>\n",
       "  </tbody>\n",
       "</table>\n",
       "</div>"
      ],
      "text/plain": [
       "     train   test\n",
       "10   0.102    0.1\n",
       "100    0.6  0.528\n",
       "500  0.855  0.742"
      ]
     },
     "execution_count": 27,
     "metadata": {},
     "output_type": "execute_result"
    }
   ],
   "source": [
    "from sklearn.linear_model import LogisticRegression\n",
    "from sklearn.decomposition import KernelPCA\n",
    "t0 = time()\n",
    "n_components = [10,100,500]\n",
    "col = ['train', 'test']\n",
    "score = pd.DataFrame(columns = col, index= n_components)\n",
    "\n",
    "\n",
    "# fit kPCA model to 20newsgroupsdata\n",
    "for number in range(0, len(n_components)):\n",
    "    # keep the first n principal components of the data\n",
    "    kpca = KernelPCA(n_components=n_components[number])\n",
    "\n",
    "    kpca.fit(X_train_scaled)\n",
    "    # transform data onto the first n principal components\n",
    "    X_train_kpca = kpca.transform(X_train_scaled)\n",
    "    X_test_kpca = kpca.transform(X_test_scaled)\n",
    "\n",
    "    logr_news = LogisticRegression(solver='sag').fit(X_train_kpca, y_train)\n",
    "    # Calculate R-squared for both test / train samples\n",
    "    score.at[n_components[number],'train'] = round(logr_news.score(X_train_kpca,y_train),3)\n",
    "    score.at[n_components[number],'test'] = round(logr_news.score(X_test_kpca,y_test),3)\n",
    "    \n",
    "\n",
    "print(\"done in %fs\" % (time() - t0))\n",
    "print(score)"
   ]
  },
  {
   "cell_type": "markdown",
   "metadata": {
    "slideshow": {
     "slide_type": "slide"
    }
   },
   "source": [
    "#### Task 3 (8 points):\n",
    "\n",
    "3. Clustering\n",
    "    - Cluster 20 News Dataset into 20 clusters. Print true class vs cluster distribution. \n",
    "          Did you manage to recover the original clusters?  (give students an example plot)"
   ]
  },
  {
   "cell_type": "markdown",
   "metadata": {
    "slideshow": {
     "slide_type": "slide"
    }
   },
   "source": [
    "20 News Groups dataset"
   ]
  },
  {
   "cell_type": "code",
   "execution_count": 4,
   "metadata": {},
   "outputs": [],
   "source": [
    "from sklearn.datasets import fetch_20newsgroups_vectorized\n",
    "data = fetch_20newsgroups_vectorized(subset='train', remove=('headers','footers','quotes'))\n",
    "X = data['data']\n",
    "Y = data['target']"
   ]
  },
  {
   "cell_type": "markdown",
   "metadata": {
    "slideshow": {
     "slide_type": "slide"
    }
   },
   "source": [
    "Printing classes and their predictions"
   ]
  },
  {
   "cell_type": "code",
   "execution_count": 52,
   "metadata": {},
   "outputs": [
    {
     "data": {
      "text/plain": [
       "[(0, 316),\n",
       " (1, 782),\n",
       " (2, 1202),\n",
       " (3, 244),\n",
       " (4, 1182),\n",
       " (5, 112),\n",
       " (6, 326),\n",
       " (7, 457),\n",
       " (8, 514),\n",
       " (9, 615),\n",
       " (10, 589),\n",
       " (11, 376),\n",
       " (12, 564),\n",
       " (13, 806),\n",
       " (14, 831),\n",
       " (15, 425),\n",
       " (16, 473),\n",
       " (17, 493),\n",
       " (18, 363),\n",
       " (19, 644)]"
      ]
     },
     "execution_count": 52,
     "metadata": {},
     "output_type": "execute_result"
    }
   ],
   "source": [
    "from sklearn.cluster import KMeans, MiniBatchKMeans\n",
    "\n",
    "\n",
    "kmeans = KMeans(n_clusters=20)\n",
    "clusters = kmeans.fit_predict(X)\n",
    "\n",
    "res = list(zip(*np.unique(clusters, return_counts=True)))\n",
    "res"
   ]
  },
  {
   "cell_type": "code",
   "execution_count": 53,
   "metadata": {},
   "outputs": [
    {
     "data": {
      "text/plain": [
       "<AxesSubplot:>"
      ]
     },
     "execution_count": 53,
     "metadata": {},
     "output_type": "execute_result"
    },
    {
     "data": {
      "image/png": "[encoded data removed]",
      "text/plain": [
       "<Figure size 432x288 with 2 Axes>"
      ]
     },
     "metadata": {
      "needs_background": "light"
     },
     "output_type": "display_data"
    }
   ],
   "source": [
    "from sklearn.metrics import confusion_matrix\n",
    "import seaborn as sn\n",
    "cm = confusion_matrix(Y, clusters)\n",
    "sn.heatmap(cm, yticklabels=data['target_names'], \n",
    "           xticklabels=[\"cluster {}\".format(i) for i in range(20)])"
   ]
  },
  {
   "cell_type": "code",
   "execution_count": 50,
   "metadata": {},
   "outputs": [
    {
     "data": {
      "text/plain": [
       "[(0, 1124),\n",
       " (1, 19),\n",
       " (2, 2),\n",
       " (3, 11),\n",
       " (4, 2),\n",
       " (5, 42),\n",
       " (6, 29),\n",
       " (7, 3),\n",
       " (8, 3468),\n",
       " (9, 12),\n",
       " (10, 7),\n",
       " (11, 4217),\n",
       " (12, 1102),\n",
       " (13, 1),\n",
       " (14, 15),\n",
       " (15, 8),\n",
       " (16, 24),\n",
       " (17, 3),\n",
       " (18, 1214),\n",
       " (19, 11)]"
      ]
     },
     "execution_count": 50,
     "metadata": {},
     "output_type": "execute_result"
    }
   ],
   "source": [
    "kmeans = MiniBatchKMeans(n_clusters=20, init='k-means++', n_init=500)\n",
    "clusters = kmeans.fit_predict(X_train_kpca)\n",
    "\n",
    "res = list(zip(*np.unique(clusters, return_counts=True)))\n",
    "res"
   ]
  },
  {
   "cell_type": "code",
   "execution_count": 51,
   "metadata": {},
   "outputs": [
    {
     "data": {
      "text/plain": [
       "<AxesSubplot:>"
      ]
     },
     "execution_count": 51,
     "metadata": {},
     "output_type": "execute_result"
    },
    {
     "data": {
      "image/png": "[encoded data removed]",
      "text/plain": [
       "<Figure size 432x288 with 2 Axes>"
      ]
     },
     "metadata": {
      "needs_background": "light"
     },
     "output_type": "display_data"
    }
   ],
   "source": [
    "cm = confusion_matrix(Y, clusters)\n",
    "sn.heatmap(cm, yticklabels=data['target_names'], \n",
    "           xticklabels=[\"cluster {}\".format(i) for i in range(20)])"
   ]
  }
 ],
 "metadata": {
  "celltoolbar": "Slideshow",
  "hide_input": false,
  "kernelspec": {
   "display_name": "Python 3 (ipykernel)",
   "language": "python",
   "name": "python3"
  },
  "language_info": {
   "codemirror_mode": {
    "name": "ipython",
    "version": 3
   },
   "file_extension": ".py",
   "mimetype": "text/x-python",
   "name": "python",
   "nbconvert_exporter": "python",
   "pygments_lexer": "ipython3",
   "version": "3.9.6"
  }
 },
 "nbformat": 4,
 "nbformat_minor": 2
}
